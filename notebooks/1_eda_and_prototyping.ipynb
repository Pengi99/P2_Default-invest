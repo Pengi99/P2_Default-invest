{
 "cells": [
  {
   "cell_type": "code",
   "execution_count": null,
   "metadata": {},
   "outputs": [],
   "source": [
    "# -------------------------------\n",
    "# 0. 라이브러리 및 환경 설정\n",
    "# -------------------------------\n",
    "import pandas as pd\n",
    "import numpy as np\n",
    "import seaborn as sns\n",
    "import matplotlib.pyplot as plt\n",
    "import missingno as msno\n",
    "from scipy.stats import zscore, pointbiserialr\n",
    "from sklearn.preprocessing import PowerTransformer\n",
    "from statsmodels.stats.outliers_influence import variance_inflation_factor\n",
    "\n",
    "# 그래프 한글폰트(선택) ─ macOS 예시\n",
    "plt.rcParams['font.family'] = 'AppleGothic'\n",
    "plt.rcParams['axes.unicode_minus'] = False\n",
    "sns.set_style('whitegrid')\n",
    "\n",
    "# -------------------------------\n",
    "# 1. 데이터 불러오기\n",
    "# -------------------------------\n",
    "### TODO: 실제 파일 경로를 지정하세요\n",
    "df = pd.read_parquet(\"../01_fetch/financial.parquet\")\n",
    "\n",
    "# -------------------------------\n",
    "# 2. 주요 변수 지정\n",
    "# -------------------------------\n",
    "### TODO: 컬럼명을 실제 데이터에 맞춰 수정\n",
    "id_col      = 'ticker'\n",
    "target_col  = 'label'          # 부실=1, 정상=0\n",
    "num_cols    = [                # 수치형 재무/파생 변수 목록\n",
    "    'total_assets', 'total_liab',\n",
    "    'sales', 'net_income',\n",
    "    'current_ratio', 'debt_ratio',\n",
    "    'altman_k2',  # …\n",
    "]\n",
    "cat_cols = []                  # 범주형 변수 있다면 추가"
   ]
  },
  {
   "cell_type": "code",
   "execution_count": null,
   "metadata": {},
   "outputs": [],
   "source": [
    "# 2-1. 정보 요약\n",
    "display(df.info())\n",
    "display(df.head())\n",
    "\n",
    "# 2-2. 중복 확인 (동일 기업·연도 중복행 탐지)\n",
    "dup_mask = df.duplicated(subset=[id_col, 'year'])\n",
    "print(f\"중복 행 수: {dup_mask.sum()}\")\n",
    "if dup_mask.any():\n",
    "    df = df[~dup_mask]  # 필요 시 제거"
   ]
  },
  {
   "cell_type": "code",
   "execution_count": null,
   "metadata": {},
   "outputs": [],
   "source": [
    "# 3-1. 변수별 결측 비율\n",
    "null_ratio = df[num_cols + [target_col]].isna().mean().sort_values(ascending=False)\n",
    "display(null_ratio.head(10))\n",
    "\n",
    "# 3-2. 히트맵 시각화\n",
    "plt.figure(figsize=(10,4))\n",
    "msno.matrix(df[num_cols + [target_col]].sample(min(500, len(df))))\n",
    "plt.show()"
   ]
  },
  {
   "cell_type": "code",
   "execution_count": null,
   "metadata": {},
   "outputs": [],
   "source": [
    "# 4-1. 기술통계\n",
    "desc = df[num_cols].describe().T\n",
    "display(desc)\n",
    "\n",
    "# 4-2. z-score 기반 이상치 마스크\n",
    "z_scores = df[num_cols].apply(zscore)\n",
    "outlier_mask = (np.abs(z_scores) > 3).any(axis=1)\n",
    "print(f\"z>|3| 이상치 행 비율: {outlier_mask.mean():.2%}\")\n",
    "\n",
    "# 4-3. 상자그림(샘플 6개 변수)\n",
    "plot_cols = num_cols[:6]\n",
    "sns.boxplot(data=df[plot_cols], orient='h'); plt.title(\"Boxplot (sample)\"); plt.show()"
   ]
  },
  {
   "cell_type": "code",
   "execution_count": null,
   "metadata": {},
   "outputs": [],
   "source": [
    "# 5-1. 오른쪽 꼬리가 긴 양수 변수에 log1p 적용 예시\n",
    "log_cols = ['sales', 'total_assets']    # TODO: 필요 변수 지정\n",
    "df[log_cols] = df[log_cols].apply(np.log1p)\n",
    "\n",
    "# 5-2. Yeo-Johnson 변환 예시\n",
    "yj_cols = ['current_ratio']             # TODO: 필요 변수 지정\n",
    "pt = PowerTransformer(method='yeo-johnson')\n",
    "df[yj_cols] = pt.fit_transform(df[yj_cols])"
   ]
  },
  {
   "cell_type": "code",
   "execution_count": null,
   "metadata": {},
   "outputs": [],
   "source": [
    "# 6-1. 피어슨 상관행렬\n",
    "corr = df[num_cols].corr()\n",
    "plt.figure(figsize=(10,8))\n",
    "sns.heatmap(corr, cmap='coolwarm', center=0, annot=False)\n",
    "plt.title(\"Correlation Matrix\"); plt.show()\n",
    "\n",
    "# 6-2. VIF 계산\n",
    "X = df[num_cols].drop(columns=[], errors='ignore')  # 필요 시 제외 변수 지정\n",
    "vif_vals = pd.Series(\n",
    "    [variance_inflation_factor(X.values, i) for i in range(X.shape[1])],\n",
    "    index=X.columns, name='VIF'\n",
    ")\n",
    "display(vif_vals.sort_values(ascending=False).head(10))"
   ]
  },
  {
   "cell_type": "code",
   "execution_count": null,
   "metadata": {},
   "outputs": [],
   "source": [
    "# 7-1. 포인트-바이시리얼 상관계수\n",
    "pb_dict = {\n",
    "    col: pointbiserialr(df[col].fillna(0), df[target_col])[0]\n",
    "    for col in num_cols\n",
    "}\n",
    "pb_series = pd.Series(pb_dict, name='point_biserial')\n",
    "display(pb_series.sort_values(key=np.abs, ascending=False).head(10))\n",
    "\n",
    "# 7-2. 변수별 상자그림 (부실 vs 정상)\n",
    "plt.figure(figsize=(12,4))\n",
    "for i, c in enumerate(num_cols[:3], 1):    # 샘플 3개 변수\n",
    "    plt.subplot(1,3,i)\n",
    "    sns.boxplot(x=target_col, y=c, data=df)\n",
    "    plt.title(c)\n",
    "plt.tight_layout(); plt.show()"
   ]
  },
  {
   "cell_type": "code",
   "execution_count": null,
   "metadata": {},
   "outputs": [],
   "source": [
    "class_counts = df[target_col].value_counts().sort_index()\n",
    "print(class_counts)\n",
    "print(\"부실(1) 비율:\", class_counts.get(1,0) / class_counts.sum())\n",
    "\n",
    "# 파이차트\n",
    "plt.figure(figsize=(4,4))\n",
    "class_counts.plot.pie(autopct='%1.1f%%', labels=['정상(0)','부실(1)'])\n",
    "plt.ylabel('')\n",
    "plt.title(\"Class Distribution\"); plt.show()"
   ]
  }
 ],
 "metadata": {
  "kernelspec": {
   "display_name": ".venv",
   "language": "python",
   "name": "python3"
  },
  "language_info": {
   "name": "python",
   "version": "3.13.3"
  }
 },
 "nbformat": 4,
 "nbformat_minor": 2
}
