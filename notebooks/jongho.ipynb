{
 "cells": [
  {
   "cell_type": "code",
   "execution_count": 20,
   "metadata": {},
   "outputs": [
    {
     "name": "stdout",
     "output_type": "stream",
     "text": [
      "⚠️ 길이 차이 발생: 원본 df(23813) vs 결과 result(23833)\n",
      "이는 merge 과정에서 일치하지 않는 키가 제거되었기 때문입니다.\n"
     ]
    }
   ],
   "source": [
    "import pandas as pd\n",
    "\n",
    "fs = pd.read_csv(\"../data/raw/FS.csv\")\n",
    "\n",
    "fs.drop(columns=[\n",
    "     '자산(*)(IFRS연결)(천원)',\n",
    " '자본(*)(IFRS연결)(천원)',\n",
    " '부채(*)(IFRS연결)(천원)',\n",
    " '유동자산(*)(IFRS연결)(천원)',\n",
    " '유동부채(*)(IFRS연결)(천원)',\n",
    " '* 발행한 주식총수(*)(IFRS연결)(천원)',\n",
    " '자본금(*)(IFRS연결)(천원)',\n",
    " '이익잉여금(결손금)(*)(IFRS연결)(천원)',\n",
    " '매출액(수익)(*)(IFRS연결)(천원)',\n",
    " '* (정상)영업손익(보고서기재)(IFRS연결)(천원)',\n",
    "], inplace=True)\n",
    "\n",
    "df = pd.read_csv(\"../data/raw/당기순이익.csv\")\n",
    "profit = \"당기순이익(손실)(IFRS)(천원)\"\n",
    "\n",
    "# fs와 df의 원본 데이터 비교 후 merge 또는 concat 수행\n",
    "fs_raw_cols = ['회사명', '거래소코드', '회계년도']\n",
    "df_raw_cols = ['회사명', '거래소코드', '회계년도']\n",
    "\n",
    "# 공통 컬럼들이 같은지 확인 후 완벽한 일치를 위한 merge 수행\n",
    "if all(col in fs.columns for col in fs_raw_cols) and all(col in df.columns for col in df_raw_cols):\n",
    "    # merge를 사용하여 완벽한 일치 보장\n",
    "    result = pd.merge(fs, df[['회사명', '거래소코드', '회계년도', profit]], \n",
    "                     on=['회사명', '거래소코드', '회계년도'], how='inner')\n",
    "    \n",
    "    # merge 후 원본 df와 같은 순서로 정렬\n",
    "    result = result.reset_index(drop=True)\n",
    "    \n",
    "    # 길이가 다른 경우에만 알림\n",
    "    if len(df) != len(result):\n",
    "        print(f\"⚠️ 길이 차이 발생: 원본 df({len(df)}) vs 결과 result({len(result)})\")\n",
    "        print(\"이는 merge 과정에서 일치하지 않는 키가 제거되었기 때문입니다.\")\n",
    "else:\n",
    "    # 컬럼이 없다면 단순 concat (인덱스 기반)\n",
    "    result = pd.concat([fs, df[[profit]]], axis=1)\n",
    "    result = result.reset_index(drop=True)\n",
    "    \n",
    "    if len(df) != len(result):\n",
    "        print(f\"⚠️ 길이 차이 발생: 원본 df({len(df)}) vs 결과 result({len(result)})\")\n",
    "\n"
   ]
  }
 ],
 "metadata": {
  "kernelspec": {
   "display_name": ".venv",
   "language": "python",
   "name": "python3"
  },
  "language_info": {
   "codemirror_mode": {
    "name": "ipython",
    "version": 3
   },
   "file_extension": ".py",
   "mimetype": "text/x-python",
   "name": "python",
   "nbconvert_exporter": "python",
   "pygments_lexer": "ipython3",
   "version": "3.13.3"
  }
 },
 "nbformat": 4,
 "nbformat_minor": 2
}
