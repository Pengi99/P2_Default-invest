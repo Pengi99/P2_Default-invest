{
 "cells": [
  {
   "cell_type": "code",
   "execution_count": 2,
   "metadata": {},
   "outputs": [],
   "source": [
    "# -------------------------------\n",
    "# 0. 라이브러리 및 환경 설정\n",
    "# -------------------------------\n",
    "import pandas as pd\n",
    "import numpy as np\n",
    "import seaborn as sns\n",
    "import matplotlib.pyplot as plt\n",
    "import missingno as msno\n",
    "from scipy.stats import zscore, pointbiserialr\n",
    "from sklearn.preprocessing import PowerTransformer\n",
    "from statsmodels.stats.outliers_influence import variance_inflation_factor\n",
    "import warnings\n",
    "warnings.filterwarnings(\"ignore\")\n",
    "\n",
    "# 그래프 한글폰트(선택) ─ macOS 예시\n",
    "plt.rcParams['font.family'] = 'AppleGothic'\n",
    "# plt.rcParams['font.family'] = 'Apple SD Gothic Neo' # 띄어쓰기 포함\n",
    "plt.rcParams['axes.unicode_minus'] = False\n",
    "sns.set_style('whitegrid')"
   ]
  },
  {
   "cell_type": "code",
   "execution_count": 5,
   "metadata": {},
   "outputs": [],
   "source": [
    "kospi = pd.read_csv(\"../data/raw/코스피_상장폐지.csv\")\n",
    "kosdaq = pd.read_csv(\"../data/raw/코스닥_상장폐지.csv\")"
   ]
  },
  {
   "cell_type": "code",
   "execution_count": 6,
   "metadata": {},
   "outputs": [],
   "source": [
    "fail = pd.concat([kospi, kosdaq])"
   ]
  },
  {
   "cell_type": "code",
   "execution_count": null,
   "metadata": {},
   "outputs": [],
   "source": [
    "fail.to_csv(\"../data/processed/fail.csv\")"
   ]
  },
  {
   "cell_type": "code",
   "execution_count": null,
   "metadata": {},
   "outputs": [],
   "source": [
    "flag = fail['종목코드'].unique()\n",
    "\n",
    "bs = pd.read_csv(\"../data/processed/BS.csv\")\n",
    "\n",
    "bsset = set(bs['거래소코드'].unique())\n",
    "flagset = set(flag)\n",
    "\n",
    "print(f\"BS에 있는 기업수: {len(bsset)}\")\n",
    "print(f\"flag에 있는 기업수: {len(flagset)}\")\n",
    "print(f\"BS에 있는 상장폐지 기업수: {len(bsset & flagset)}\")\n",
    "print(f\"BS에 없는 상장폐지 기업수: {len(flagset - bsset)}\")\n",
    "print(f\"최종 기업수: {len(bsset - flagset)}\")\n"
   ]
  },
  {
   "cell_type": "code",
   "execution_count": 7,
   "metadata": {},
   "outputs": [],
   "source": [
    "c_ratio = pd.read_csv(\"../data/raw/연결 재무비율(IFRS)_0613.csv\")\n",
    "n_ratio = pd.read_csv(\"../data/raw/재무비율(IFRS)_0613.csv\")\n",
    "c_bs = pd.read_csv(\"../data/raw/연결 재무제표(IFRS)_0613.csv\")\n",
    "n_bs = pd.read_csv(\"../data/raw/재무제표(IFRS)_0613.csv\")\n",
    "delisting = pd.concat([kospi, kosdaq])\n",
    "df = pd.DataFrame()"
   ]
  },
  {
   "cell_type": "code",
   "execution_count": null,
   "metadata": {},
   "outputs": [],
   "source": [
    "c_bs.columns.tolist()"
   ]
  },
  {
   "cell_type": "code",
   "execution_count": null,
   "metadata": {},
   "outputs": [],
   "source": [
    "n_bs.columns.tolist()"
   ]
  },
  {
   "cell_type": "code",
   "execution_count": null,
   "metadata": {},
   "outputs": [],
   "source": [
    "bs = pd.read_csv(\"../data/processed/BS.csv\")\n",
    "ratio = pd.read_csv(\"../data/processed/ratio.csv\")\n",
    "\n",
    "print(bs.shape)\n",
    "print(ratio.shape)\n",
    "\n",
    "df = pd.concat([bs, ratio], axis=1)\n",
    "df.to_csv(\"../data/processed/bs_ratio.csv\", index=False)"
   ]
  },
  {
   "cell_type": "code",
   "execution_count": null,
   "metadata": {},
   "outputs": [],
   "source": [
    "df.columns"
   ]
  },
  {
   "cell_type": "code",
   "execution_count": null,
   "metadata": {},
   "outputs": [],
   "source": [
    "df.columns.tolist()"
   ]
  },
  {
   "cell_type": "code",
   "execution_count": null,
   "metadata": {},
   "outputs": [],
   "source": [
    "# -------------------------------\n",
    "# 1. 데이터 불러오기\n",
    "# -------------------------------\n",
    "### TODO: 실제 파일 경로를 지정하세요\n",
    "df = pd.read_csv(\"../data/processed/bs_ratio.csv\")\n",
    "\n",
    "# -------------------------------\n",
    "# 2. 주요 변수 지정\n",
    "# -------------------------------\n",
    "### TODO: 컬럼명을 실제 데이터에 맞춰 수정\n",
    "id_col      = '거래소코드'\n",
    "keep_cols = [\n",
    "    '[A100000000]자산(*)(IFRS연결)(천원)',                                    # 총자산\n",
    "    '[A800000000]부채(*)(IFRS연결)(천원)',                                    # 총부채\n",
    "    '[A600000000]자본(*)(IFRS연결)(천원)',                                    # 자본\n",
    "    '[B420000000]* (정상)영업손익(보고서기재)(3개월)(IFRS연결)(천원)',     # 영업이익 (분기)\n",
    "    '[B840000000]당기순이익(손실)(3개월)(IFRS연결)(천원)',                   # 순이익 (분기)\n",
    "    '[D100000000]영업활동으로 인한 현금흐름(간접법)(*)(IFRS연결)(천원)',    # 영업현금흐름\n",
    "    '부채비율(IFRS연결)',                                                      # Debt Ratio\n",
    "    '차입금의존도(IFRS연결)',                                                  # Borrowing Dependence\n",
    "    '총자본회전률(IFRS연결)',                                                  # Asset Turnover\n",
    "    'PBR(최저)(IFRS연결)'                                                      # PBR (Lowest)\n",
    "]\n",
    "df = df.drop(columns=[c for c in df.columns if c not in keep_cols])\n",
    "df.columns = ['Asset', 'Debt', 'Equity', 'OperatingIncome', 'NetIncome', 'OperatingCashFlow', 'DebtRatio', 'BorrowingDependence', 'AssetTurnover', 'PBR']\n",
    "cat_cols = []                  # 범주형 변수 있다면 추가\n",
    "df.columns"
   ]
  },
  {
   "cell_type": "code",
   "execution_count": null,
   "metadata": {},
   "outputs": [],
   "source": [
    "# 2-1. 정보 요약\n",
    "display(df.info())\n",
    "display(df.head())\n",
    "\n",
    "# # 2-2. 중복 확인 (동일 기업·연도 중복행 탐지)\n",
    "# dup_mask = df.duplicated(subset=[id_col, 'year'])\n",
    "# print(f\"중복 행 수: {dup_mask.sum()}\")\n",
    "# if dup_mask.any():\n",
    "#     df = df[~dup_mask]  # 필요 시 제거"
   ]
  },
  {
   "cell_type": "code",
   "execution_count": null,
   "metadata": {},
   "outputs": [],
   "source": [
    "# 3-1. 변수별 결측 비율\n",
    "null_ratio = df.isna().mean().sort_values(ascending=False)\n",
    "display(null_ratio.head(10))\n",
    "\n",
    "# 3-2. 히트맵 시각화\n",
    "plt.figure(figsize=(10,4))\n",
    "msno.matrix(df.sample(min(1000, len(df_bs))))\n",
    "plt.show()"
   ]
  },
  {
   "cell_type": "code",
   "execution_count": null,
   "metadata": {},
   "outputs": [],
   "source": [
    "# 4-1. 기술통계\n",
    "desc = df.describe().T\n",
    "display(desc)\n",
    "\n",
    "# 4-2. z-score 기반 이상치 마스크\n",
    "z_scores = df.apply(zscore)\n",
    "outlier_mask = (np.abs(z_scores) > 3).any(axis=1)\n",
    "print(f\"z>|3| 이상치 행 비율: {outlier_mask.mean():.2%}\")\n",
    "\n",
    "# 4-3. 상자그림(샘플 10개 변수)\n",
    "numeric_cols = df.select_dtypes(include='number').columns\n",
    "\n",
    "for col in numeric_cols:\n",
    "    plt.figure(figsize=(8, 4))\n",
    "    sns.boxplot(x=df[col], orient='h')\n",
    "    plt.title(f\"Boxplot of {col}\")\n",
    "    plt.xlabel(col)\n",
    "    plt.tight_layout()\n",
    "    plt.show()"
   ]
  },
  {
   "cell_type": "code",
   "execution_count": null,
   "metadata": {},
   "outputs": [],
   "source": [
    "# 6-1. 피어슨 상관행렬\n",
    "corr = df.corr()\n",
    "plt.figure(figsize=(10,8))\n",
    "sns.heatmap(corr, cmap='coolwarm', center=0, annot=False)\n",
    "plt.title(\"Correlation Matrix\"); plt.show()\n",
    "\n",
    "# # 6-2. VIF 계산\n",
    "# X = df.drop(columns=[], errors='ignore')  # 필요 시 제외 변수 지정\n",
    "# vif_vals = pd.Series(\n",
    "#     [variance_inflation_factor(X.values, i) for i in range(X.shape[1])],\n",
    "#     index=X.columns, name='VIF'\n",
    "# )\n",
    "# display(vif_vals.sort_values(ascending=False).head(10))"
   ]
  },
  {
   "cell_type": "code",
   "execution_count": null,
   "metadata": {},
   "outputs": [],
   "source": [
    "import matplotlib.pyplot as plt\n",
    "import seaborn as sns\n",
    "import statsmodels.api as sm\n",
    "\n",
    "# ─────────────────────────────────────────────\n",
    "# QQ-Plot: 각 변수별로 화면에 표시\n",
    "# ─────────────────────────────────────────────\n",
    "for col in df.columns:\n",
    "    sm.qqplot(df[col].dropna(), line='45', fit=True)\n",
    "    plt.title(f\"QQ Plot of {col}\")\n",
    "    plt.xlabel(\"Theoretical Quantiles\")\n",
    "    plt.ylabel(\"Sample Quantiles\")\n",
    "    plt.tight_layout()\n",
    "    plt.show()\n",
    "    plt.close()\n",
    "\n",
    "# ─────────────────────────────────────────────\n",
    "# Scatter: 'Asset' 기준으로 나머지 변수들과 화면에 표시\n",
    "# ─────────────────────────────────────────────\n",
    "for col in df.columns:\n",
    "    if col == 'Asset':\n",
    "        continue\n",
    "    plt.figure(figsize=(6, 6))\n",
    "    sns.scatterplot(x=df['Asset'], y=df[col], alpha=0.6)\n",
    "    plt.title(f\"Asset vs {col}\")\n",
    "    plt.xlabel(\"Asset\")\n",
    "    plt.ylabel(col)\n",
    "    plt.tight_layout()\n",
    "    plt.show()\n",
    "    plt.close()\n"
   ]
  },
  {
   "cell_type": "code",
   "execution_count": 8,
   "metadata": {},
   "outputs": [],
   "source": [
    "industry = pd.read_excel(\"../data/raw/산업분류.xlsx\")"
   ]
  },
  {
   "cell_type": "code",
   "execution_count": 9,
   "metadata": {},
   "outputs": [
    {
     "data": {
      "text/plain": [
       "통계청 한국표준산업분류 11차(대분류)\n",
       "제조업                         18764\n",
       "정보통신업                        3552\n",
       "도매 및 소매업                     2108\n",
       "전문, 과학 및 기술 서비스업             2100\n",
       "금융 및 보험업                     1482\n",
       "건설업                           756\n",
       "운수 및 창고업                      341\n",
       "사업시설 관리, 사업 지원 및 임대 서비스업      248\n",
       "전기, 가스, 증기 및 공기조절 공급업         164\n",
       "교육 서비스업                       133\n",
       "예술, 스포츠 및 여가관련 서비스업           129\n",
       "부동산업                           67\n",
       "숙박 및 음식점업                      58\n",
       "농업, 임업 및 어업                    49\n",
       "수도, 하수 및 폐기물 처리, 원료 재생업        36\n",
       "협회 및 단체, 수리 및 기타 개인 서비스업       28\n",
       "보건업 및 사회복지 서비스업                12\n",
       "광업                              3\n",
       "Name: count, dtype: int64"
      ]
     },
     "execution_count": 9,
     "metadata": {},
     "output_type": "execute_result"
    }
   ],
   "source": [
    "industry[\"통계청 한국표준산업분류 11차(대분류)\"].value_counts()"
   ]
  },
  {
   "cell_type": "code",
   "execution_count": 10,
   "metadata": {},
   "outputs": [
    {
     "data": {
      "text/html": [
       "<div>\n",
       "<style scoped>\n",
       "    .dataframe tbody tr th:only-of-type {\n",
       "        vertical-align: middle;\n",
       "    }\n",
       "\n",
       "    .dataframe tbody tr th {\n",
       "        vertical-align: top;\n",
       "    }\n",
       "\n",
       "    .dataframe thead th {\n",
       "        text-align: right;\n",
       "    }\n",
       "</style>\n",
       "<table border=\"1\" class=\"dataframe\">\n",
       "  <thead>\n",
       "    <tr style=\"text-align: right;\">\n",
       "      <th></th>\n",
       "      <th>회사명</th>\n",
       "      <th>거래소코드</th>\n",
       "      <th>회계년도</th>\n",
       "      <th>통계청 한국표준산업분류 11차(대분류)</th>\n",
       "      <th>통계청 한국표준산업분류 코드 11차(대분류)</th>\n",
       "      <th>상장협 산업분류(대분류)</th>\n",
       "      <th>상장협 산업분류 코드(대분류)</th>\n",
       "    </tr>\n",
       "  </thead>\n",
       "  <tbody>\n",
       "    <tr>\n",
       "      <th>12</th>\n",
       "      <td>(주)CMG제약</td>\n",
       "      <td>58820</td>\n",
       "      <td>2012/12</td>\n",
       "      <td>제조업</td>\n",
       "      <td>21</td>\n",
       "      <td>제조업</td>\n",
       "      <td>30000</td>\n",
       "    </tr>\n",
       "    <tr>\n",
       "      <th>13</th>\n",
       "      <td>(주)CMG제약</td>\n",
       "      <td>58820</td>\n",
       "      <td>2013/12</td>\n",
       "      <td>제조업</td>\n",
       "      <td>21</td>\n",
       "      <td>제조업</td>\n",
       "      <td>30000</td>\n",
       "    </tr>\n",
       "    <tr>\n",
       "      <th>14</th>\n",
       "      <td>(주)CMG제약</td>\n",
       "      <td>58820</td>\n",
       "      <td>2014/12</td>\n",
       "      <td>제조업</td>\n",
       "      <td>21</td>\n",
       "      <td>제조업</td>\n",
       "      <td>30000</td>\n",
       "    </tr>\n",
       "    <tr>\n",
       "      <th>15</th>\n",
       "      <td>(주)CMG제약</td>\n",
       "      <td>58820</td>\n",
       "      <td>2015/12</td>\n",
       "      <td>제조업</td>\n",
       "      <td>21</td>\n",
       "      <td>제조업</td>\n",
       "      <td>30000</td>\n",
       "    </tr>\n",
       "    <tr>\n",
       "      <th>16</th>\n",
       "      <td>(주)CMG제약</td>\n",
       "      <td>58820</td>\n",
       "      <td>2016/12</td>\n",
       "      <td>제조업</td>\n",
       "      <td>21</td>\n",
       "      <td>제조업</td>\n",
       "      <td>30000</td>\n",
       "    </tr>\n",
       "    <tr>\n",
       "      <th>...</th>\n",
       "      <td>...</td>\n",
       "      <td>...</td>\n",
       "      <td>...</td>\n",
       "      <td>...</td>\n",
       "      <td>...</td>\n",
       "      <td>...</td>\n",
       "      <td>...</td>\n",
       "    </tr>\n",
       "    <tr>\n",
       "      <th>30025</th>\n",
       "      <td>흥아해운(주)</td>\n",
       "      <td>3280</td>\n",
       "      <td>2019/12</td>\n",
       "      <td>운수 및 창고업</td>\n",
       "      <td>50</td>\n",
       "      <td>운수 및 창고업</td>\n",
       "      <td>80000</td>\n",
       "    </tr>\n",
       "    <tr>\n",
       "      <th>30026</th>\n",
       "      <td>흥아해운(주)</td>\n",
       "      <td>3280</td>\n",
       "      <td>2020/12</td>\n",
       "      <td>운수 및 창고업</td>\n",
       "      <td>50</td>\n",
       "      <td>운수 및 창고업</td>\n",
       "      <td>80000</td>\n",
       "    </tr>\n",
       "    <tr>\n",
       "      <th>30027</th>\n",
       "      <td>흥아해운(주)</td>\n",
       "      <td>3280</td>\n",
       "      <td>2021/12</td>\n",
       "      <td>운수 및 창고업</td>\n",
       "      <td>50</td>\n",
       "      <td>운수 및 창고업</td>\n",
       "      <td>80000</td>\n",
       "    </tr>\n",
       "    <tr>\n",
       "      <th>30028</th>\n",
       "      <td>흥아해운(주)</td>\n",
       "      <td>3280</td>\n",
       "      <td>2022/12</td>\n",
       "      <td>운수 및 창고업</td>\n",
       "      <td>50</td>\n",
       "      <td>운수 및 창고업</td>\n",
       "      <td>80000</td>\n",
       "    </tr>\n",
       "    <tr>\n",
       "      <th>30029</th>\n",
       "      <td>흥아해운(주)</td>\n",
       "      <td>3280</td>\n",
       "      <td>2023/12</td>\n",
       "      <td>운수 및 창고업</td>\n",
       "      <td>50</td>\n",
       "      <td>운수 및 창고업</td>\n",
       "      <td>80000</td>\n",
       "    </tr>\n",
       "  </tbody>\n",
       "</table>\n",
       "<p>28481 rows × 7 columns</p>\n",
       "</div>"
      ],
      "text/plain": [
       "            회사명  거래소코드     회계년도 통계청 한국표준산업분류 11차(대분류)  \\\n",
       "12     (주)CMG제약  58820  2012/12                   제조업   \n",
       "13     (주)CMG제약  58820  2013/12                   제조업   \n",
       "14     (주)CMG제약  58820  2014/12                   제조업   \n",
       "15     (주)CMG제약  58820  2015/12                   제조업   \n",
       "16     (주)CMG제약  58820  2016/12                   제조업   \n",
       "...         ...    ...      ...                   ...   \n",
       "30025   흥아해운(주)   3280  2019/12              운수 및 창고업   \n",
       "30026   흥아해운(주)   3280  2020/12              운수 및 창고업   \n",
       "30027   흥아해운(주)   3280  2021/12              운수 및 창고업   \n",
       "30028   흥아해운(주)   3280  2022/12              운수 및 창고업   \n",
       "30029   흥아해운(주)   3280  2023/12              운수 및 창고업   \n",
       "\n",
       "       통계청 한국표준산업분류 코드 11차(대분류) 상장협 산업분류(대분류)  상장협 산업분류 코드(대분류)  \n",
       "12                           21          제조업              30000  \n",
       "13                           21          제조업              30000  \n",
       "14                           21          제조업              30000  \n",
       "15                           21          제조업              30000  \n",
       "16                           21          제조업              30000  \n",
       "...                         ...           ...               ...  \n",
       "30025                        50     운수 및 창고업              80000  \n",
       "30026                        50     운수 및 창고업              80000  \n",
       "30027                        50     운수 및 창고업              80000  \n",
       "30028                        50     운수 및 창고업              80000  \n",
       "30029                        50     운수 및 창고업              80000  \n",
       "\n",
       "[28481 rows x 7 columns]"
      ]
     },
     "execution_count": 10,
     "metadata": {},
     "output_type": "execute_result"
    }
   ],
   "source": [
    "industry = industry[industry['통계청 한국표준산업분류 11차(대분류)'] != \"금융 및 보험업\"]\n",
    "industry = industry[industry['통계청 한국표준산업분류 11차(대분류)'] != \"부동산업\"]\n",
    "industry = industry[industry['통계청 한국표준산업분류 11차(대분류)'] != \"전기, 가스, 증기 및 공기조절 공급업 (공공 유틸리티)\"]\n",
    "industry"
   ]
  },
  {
   "cell_type": "code",
   "execution_count": null,
   "metadata": {},
   "outputs": [],
   "source": [
    "len(c_bs)"
   ]
  },
  {
   "cell_type": "code",
   "execution_count": 11,
   "metadata": {},
   "outputs": [],
   "source": [
    "# industry에 존재하는 거래소코드 목록 추출\n",
    "valid_codes = industry['거래소코드'].unique()\n",
    "\n",
    "# 각 데이터프레임에서 valid_codes에 포함된 행만 남기기\n",
    "c_bs     = c_bs    [c_bs    ['거래소코드'].isin(valid_codes)].reset_index(drop=True)\n",
    "c_ratio  = c_ratio [c_ratio ['거래소코드'].isin(valid_codes)].reset_index(drop=True)\n",
    "n_bs     = n_bs    [n_bs    ['거래소코드'].isin(valid_codes)].reset_index(drop=True)\n",
    "n_ratio  = n_ratio [n_ratio ['거래소코드'].isin(valid_codes)].reset_index(drop=True)"
   ]
  },
  {
   "cell_type": "code",
   "execution_count": 12,
   "metadata": {},
   "outputs": [],
   "source": [
    "c_bs.to_csv(\"../data/raw/연결재무제표.csv\", index=False)\n",
    "n_bs.to_csv(\"../data/raw/개별재무제표.csv\", index=False)\n",
    "c_ratio.to_csv(\"../data/raw/연결재무비율.csv\", index=False)\n",
    "n_ratio.to_csv(\"../data/raw/개별재무비율.csv\", index=False)"
   ]
  },
  {
   "cell_type": "code",
   "execution_count": 19,
   "metadata": {},
   "outputs": [],
   "source": [
    "bs = pd.read_csv(\"../data/processed/BS.csv\")\n",
    "ratio = pd.read_csv(\"../data/processed/ratio.csv\")\n",
    "\n",
    "df = pd.merge(bs, ratio, on=[\"회사명\", \"거래소코드\", \"회계년도\"])\n",
    "df.to_csv(\"../data/processed/BS_ratio.csv\", index=False)"
   ]
  },
  {
   "cell_type": "code",
   "execution_count": 53,
   "metadata": {},
   "outputs": [],
   "source": [
    "fail = pd.read_csv(\"../data/processed/fail.csv\")"
   ]
  },
  {
   "cell_type": "code",
   "execution_count": 54,
   "metadata": {},
   "outputs": [
    {
     "data": {
      "text/plain": [
       "Index(['Unnamed: 0', '번호', '회사명', '종목코드', '폐지일자', '폐지사유', '비고'], dtype='object')"
      ]
     },
     "execution_count": 54,
     "metadata": {},
     "output_type": "execute_result"
    }
   ],
   "source": [
    "fail.columns"
   ]
  },
  {
   "cell_type": "code",
   "execution_count": 55,
   "metadata": {},
   "outputs": [],
   "source": [
    "fail.drop([\"Unnamed: 0\", \"번호\", \"비고\"], axis=1, inplace=True)"
   ]
  },
  {
   "cell_type": "code",
   "execution_count": 57,
   "metadata": {},
   "outputs": [],
   "source": [
    "fail_set = set(fail['폐지사유'].unique().tolist())"
   ]
  },
  {
   "cell_type": "code",
   "execution_count": 75,
   "metadata": {},
   "outputs": [],
   "source": [
    "# ─────────────────────────────────────────────\n",
    "# 1) “실적(재무·시장요건)‧부도”에 의한 상장폐지 사유\n",
    "# ─────────────────────────────────────────────\n",
    "performance_cols = [\n",
    "    # ── 시장·재무 요건 미달 ──\n",
    "    '시가총액 미달',\n",
    "    '시가총액 40억원 미달',\n",
    "    '보통주 주가수준미달',\n",
    "    '보통주 주식분포요건 미충족 2년 계속',\n",
    "    '매출액 미달(50억원 미만) 2년 계속',\n",
    "    '자본전액잠식',\n",
    "    '자본전액잠식 등',\n",
    "    '자본전액잠식등',\n",
    "    '자본잠식(자본금의 50/100이상 잠식) 2년 계속',\n",
    "    '2반기 연속 자본잠식률 50% 이상',\n",
    "    '2반기 연속 자본잠식률 50%이상',\n",
    "    '2회 연속 자본잠식률 50%이상',\n",
    "    '자본잠식률 50% 이상으로 관리종목 지정 이후 최근 반기의 재무제표에 대한 감사인의 감사의견거절 등',\n",
    "    '최근 5사업연도 연속 영업손실 발생',\n",
    "    '최근 5사업연도 연속 영업손실 발생 등',\n",
    "    '최근3사업연도중2사업연도자기자본 50%초과법인세비용차감전손실발생',\n",
    "    \n",
    "\n",
    "    # ── 감사(意見거절·한정·부적정) ──\n",
    "    '감사의견 의견거절 2년 계속',\n",
    "    '감사의견 의견거절',\n",
    "    '감사의견 부적정',\n",
    "    '감사의견 거절',\n",
    "    '감사의견 거절(감사범위 제한)',\n",
    "    '감사의견 거절(감사범위 제한 및 계속기업가정 불확실성)',\n",
    "    '감사의견 거절(감사범위 제한 및 계속기업 존속능력 불확실성)',\n",
    "    '감사의견 거절(감사범위 제한 및 계속기업 존속능력에 대한 불확실성)',\n",
    "    '감사의견 거절(감사범위 제한 및 계속기업 존속능력에 대한 불확실성',\n",
    "    '감사의견 거절(감사범위 제한 및 기업회계기준 위배)',\n",
    "    '감사의견 거절(내부회계관리제도상의 취약점, 계속기업가정의 불확실성 및 재고자산 관련 감사범위 제한)',\n",
    "    '감사의견 거절(감사범위 제한으로 인한 의견거절)',\n",
    "    '감사의견거절(감사범위 제한)',\n",
    "    '감사의견거절(감사범위제한)',\n",
    "    '감사의견거절(감사범위 제한 및 계속기업존속 불확실성)',\n",
    "    '감사의견거절(감사범위제한 및 계속기업 존속 불확실)',\n",
    "    '감사의견거절(감사범위 제한 및 계속기업 존속능력에 대한 불확실성)',\n",
    "    '감사의견거절(감사범위 제한 및 계속기업존속능력 불확실성)',\n",
    "    '감사의견거절(범위제한 및 계속기업 존속능력에 대한 불확실성)',\n",
    "    '감사의견거절(감사범위 제한 및 계속기업으로서의 존속능력에 대한 불확실성)',\n",
    "    \"'16사업연도 감사의견거절(계속기업 존속능력에 대한 불확실성) 및 '17사업연도 반기 감사의견거절(계속기업 존속능력에 대한 불확실성)\",\n",
    "    # \"'16사업연도 감사의견거절(계속기업 존속능력에 대한 불확실성) 및 '17사업연도 반기 감사의견거절(계속기업 존속능력에 대한 불확실성)'\",\n",
    "    '감사범위제한으로 인한 한정의견',\n",
    "    '감사의견 한정(감사범위 제한)',\n",
    "    '의견거절(감사범위 제한)',\n",
    "    '감사의견 거절(계속기업 존속능력에 대한 불확실성 및 감사범위 제한)',\n",
    "    '감사의견 거절(계속기업 존속능력에 대한 불확실성)',\n",
    "    '감사의견거절(계속기업으로서의 존속능력에 대한 불확실성)',\n",
    "    '반기 재무제표에 대한 검토의견거절로 관리종목 지정후 자본잠식률 50% 이상',\n",
    "    '감사 의견거절(감사범위 제한)',\n",
    "    '감사의견 거절(감사범위 제한 및 계속기업존속불확실성)',\n",
    "    \"'14사업연도 자본잠식률 50%이상 사유로 관리종목 지정 후 '15사업연도 반기 감사의견 거절\",\n",
    "\n",
    "\n",
    "    '기업의 계속성 및 경영의 투명성 등을 종합적으로 고려하여 상장폐지기준에 해당',\n",
    "    '기업의 계속성 및 경영의 투명성 등을 종합적으로 고려하여 상장폐지 기준에 해당한다고 결정',\n",
    "    '기업의 계속성, 경영의 투명성 및 기타 공익과 투자자 보호 등을 종합적으로 고려하여 상장폐지 기준에 해당한다고 결정',\n",
    "    '기업의 계속성 및 경영의 투명성 등을 종합적으로 고려하여 상장폐지기준에 해당한다고 결정',\n",
    "    '기업의 계속성 및 경영의 투명성 등을 종합적을 고려하여 상장폐지기준에 해당한다고 결정',\n",
    "    '기업의 계속성, 경영의 투명성 또는 그 밖에 코스닥시장의 건전성 등을 종합적으로 고려하여 상장폐지 기준에 해당한다고 결정',\n",
    "    '기업의 계속성, 경영의 투명성 또는 기타 코스닥시장의 건전성 등을 종합적으로 고려하여 상장폐지가 필요하다고 인정',\n",
    "    '기업의 계속성, 경영의 투명성 또는 기타 코스닥시장의 건전성 등을 종합적으로 고려하여 상장폐지 기준에 해당한다고 결정',\n",
    "    '기업의계속성, 경영의 투명성 또는 기타 코스닥시장의 건전성 등을 종합적으로 고려하여 상장폐지 기준에 해당한다고 결정',\n",
    "    \n",
    "\n",
    "    # ── 부도·거래정지 ──\n",
    "    '최종부도발생',\n",
    "    '최종부도 발생',\n",
    "    '발행한 어음 또는 수표가 주거래은행에 의하여 최종부도로 결정되거나 거래은행에 의한 거래정지',\n",
    "    '발행한 어음 또는 수표가 주거래은행에 의하여 최종부도로 결정되거나 거래은행에 의한 거래 정지',\n",
    "    '해산사유 발생(파산선고)'\n",
    "]\n",
    "\n",
    "# ─────────────────────────────────────────────\n",
    "# 2) “비-실적(자진신청·합병·지배구조·공시위반 등)” 상장폐지 사유\n",
    "# ─────────────────────────────────────────────\n",
    "non_performance_cols = [\n",
    "    '신청에 의한 상장폐지',\n",
    "    \"상장폐지 신청('23.06.28)\",\n",
    "    \"상장폐지 신청('22.08.31)\",\n",
    "    \"상장폐지 신청('22.03.30)\",\n",
    "    \"상장폐지 신청('22.04.14)\",\n",
    "    \"상장폐지 신청('17.06.22)\",\n",
    "    \"상장폐지신청('17.02.07)\",\n",
    "    \"상장폐지신청('15.6.11)\",\n",
    "    \"상장폐지 신청('15.01.15)\",\n",
    "    \"상장폐지신청('14.04.22)\",\n",
    "    \"상장폐지신청('13.09.06)\",\n",
    "    \"상장폐지 신청('13.05.08)\",\n",
    "    \"상장폐지신청('12.09.26)\",\n",
    "    \"상장폐지신청('12.10.09)\",\n",
    "    \"상장폐지 신청('12.09.26)\",\n",
    "    \"상장폐지신청('12.09.12)\",\n",
    "\n",
    "    '지주회사(최대주주등)의 완전자회사화 등',\n",
    "    '지주회사의 완전자회사화(지주회사 신규상장)',\n",
    "    '해산 사유 발생',\n",
    "    '존속기간 만료',\n",
    "    '공시서류 미제출(사업보고서) 후 10일이내 미제출',\n",
    "    'SPAC 상장예비심사청구서 미제출 등',\n",
    "    '상장예비심사 청구서 미제출로 관리종목 지정 후 1개월 이내 동 사유 미해소',\n",
    "    '상장예비심사 청구서 미제출로 관리종목 지정 후 1개월 이내 동사유 미해소',\n",
    "    '피흡수합병(스팩소멸합병)',\n",
    "    '타법인의 완전자회사로 편입',\n",
    "    '유가증권시장 상장',\n",
    "    '피흡수합병',\n",
    "    '상장예비심사청구서 미제출',\n",
    "    # '상장예비심사 청구서 미제출',\n",
    "    # '상장예비심사 청구서 미제출로 관리종목 지정후 1개월 이내 동 사유를 미해소',\n",
    "    '상장예비심사 청구서 미제출로 관리종목 지정후 1개월 이내 동사유를 미해소',\n",
    "    '제28조제1항제9호에 따라 관리종목 지정 후 공시규정 제19조제1항에 따른 사업보고서 법정제출기한 내 미제출, 최근 2년간 3회 이상 공시규정 제19조제1항의 규정에 의한 사업보고서, 반기보고서 또는 분기보고서 법정제출기한 내 미제출',\n",
    "    '제28조제1항제9호에 따라 관리종목 지정 후 공시규정 제19조 제1항에 따른 분기보고서 법정기한 내 미제출',\n",
    "    '법정제출기한까지 사업보고서를 제출하지 아니한 후, 법정제출기한의 다음날부터 10일이내에 사업보고서를 제출하지 아니함',\n",
    "    '최근 2년간 3회 이상 공시규정 제19조제1항의 규정에 의한 사업보고서, 반기보고서 또는 분기보고서 법정제출기한 내 미제출',\n",
    "    '사업보고서 법정제출기한 익일부터 10일 이내 미제출',\n",
    "    '사업보고서 법정제출기한 익일부터 10일 이내 미제출 등',\n",
    "    '상장예비심사 청구서 미제출로 관리종목 지정후 1개월 이내 동 사유 미해소',\n",
    "\n",
    "    # '기업의 계속성, 경영의 투명성 및 기타 공익과 투자자 보호 등을 종합적으로 고려하여 상장폐지 기준에 해당한다고 결정',\n",
    "    # '기업의 계속성 및 경영의 투명성 등을 종합적으로 고려하여 상장폐지기준에 해당한다고 결정',\n",
    "    # '기업의 계속성 및 경영의 투명성 등을 종합적을 고려하여 상장폐지기준에 해당한다고 결정',\n",
    "    # '기업의 계속성, 경영의 투명성 또는 그 밖에 코스닥시장의 건전성 등을 종합적으로 고려하여 상장폐지 기준에 해당한다고 결정',\n",
    "    # '기업의 계속성, 경영의 투명성 또는 기타 코스닥시장의 건전성 등을 종합적으로 고려하여 상장폐지가 필요하다고 인정',\n",
    "    # '기업의 계속성, 경영의 투명성 또는 기타 코스닥시장의 건전성 등을 종합적으로 고려하여 상장폐지 기준에 해당한다고 결정',\n",
    "    # '기업의계속성, 경영의 투명성 또는 기타 코스닥시장의 건전성 등을 종합적으로 고려하여 상장폐지 기준에 해당한다고 결정'\n",
    "]\n",
    "\n",
    "# ─────────────────────────────────────────────\n",
    "# (선택) 중복·교차 점검\n",
    "# ─────────────────────────────────────────────\n",
    "assert set(performance_cols).isdisjoint(non_performance_cols), '중복 항목이 있습니다!'\n"
   ]
  },
  {
   "cell_type": "code",
   "execution_count": 76,
   "metadata": {},
   "outputs": [
    {
     "name": "stdout",
     "output_type": "stream",
     "text": [
      "fail에 있으나 다른 컬럼에 없는 값: 없음\n",
      "performance_cols에 환각으로 생긴 값: 없음\n",
      "non_performance_cols에 환각으로 생긴 값: 없음\n"
     ]
    }
   ],
   "source": [
    "performance_cols = set(performance_cols)\n",
    "non_performance_cols = set(non_performance_cols)\n",
    "\n",
    "# 모든 값이 잘 분배되었는지 확인\n",
    "union_of_cols = performance_cols.union(non_performance_cols)\n",
    "undistributed_from_fail = fail_set.difference(union_of_cols)\n",
    "print(f\"fail에 있으나 다른 컬럼에 없는 값: {undistributed_from_fail if undistributed_from_fail else '없음'}\")\n",
    "\n",
    "# performance_cols에 환각 값이 있는지 확인\n",
    "hallucinated_in_performance = performance_cols.difference(fail_set)\n",
    "print(f\"performance_cols에 환각으로 생긴 값: {hallucinated_in_performance if hallucinated_in_performance else '없음'}\")\n",
    "\n",
    "# non_performance_cols에 환각 값이 있는지 확인\n",
    "hallucinated_in_non_performance = non_performance_cols.difference(fail_set)\n",
    "print(f\"non_performance_cols에 환각으로 생긴 값: {hallucinated_in_non_performance if hallucinated_in_non_performance else '없음'}\")"
   ]
  },
  {
   "cell_type": "code",
   "execution_count": 77,
   "metadata": {},
   "outputs": [
    {
     "name": "stdout",
     "output_type": "stream",
     "text": [
      "98\n",
      "61\n",
      "37\n"
     ]
    }
   ],
   "source": [
    "print(len(fail_set))\n",
    "print(len(performance_cols))\n",
    "print(len(non_performance_cols))"
   ]
  },
  {
   "cell_type": "code",
   "execution_count": 78,
   "metadata": {},
   "outputs": [],
   "source": [
    "value_fail = fail[fail['폐지사유'].isin(performance_cols)]\n",
    "unvalue_fail = fail[fail['폐지사유'].isin(non_performance_cols)]\n",
    "value_fail.to_csv(\"../data/processed/value_fail.csv\", index=False)\n",
    "unvalue_fail.to_csv(\"../data/processed/unvalue_fail.csv\", index=False)"
   ]
  }
 ],
 "metadata": {
  "kernelspec": {
   "display_name": ".venv",
   "language": "python",
   "name": "python3"
  },
  "language_info": {
   "codemirror_mode": {
    "name": "ipython",
    "version": 3
   },
   "file_extension": ".py",
   "mimetype": "text/x-python",
   "name": "python",
   "nbconvert_exporter": "python",
   "pygments_lexer": "ipython3",
   "version": "3.13.3"
  }
 },
 "nbformat": 4,
 "nbformat_minor": 2
}
