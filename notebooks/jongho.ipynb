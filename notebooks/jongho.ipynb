{
 "cells": [
  {
   "cell_type": "code",
   "execution_count": null,
   "metadata": {},
   "outputs": [],
   "source": [
    "# -------------------------------\n",
    "# 0. 라이브러리 및 환경 설정\n",
    "# -------------------------------\n",
    "import pandas as pd\n",
    "import numpy as np\n",
    "import seaborn as sns\n",
    "import matplotlib.pyplot as plt\n",
    "import missingno as msno\n",
    "from scipy.stats import zscore, pointbiserialr\n",
    "from sklearn.preprocessing import PowerTransformer\n",
    "from statsmodels.stats.outliers_influence import variance_inflation_factor\n",
    "import warnings\n",
    "warnings.filterwarnings(\"ignore\")\n",
    "\n",
    "# 그래프 한글폰트(선택) ─ macOS 예시\n",
    "plt.rcParams['font.family'] = 'AppleGothic'\n",
    "# plt.rcParams['font.family'] = 'Apple SD Gothic Neo' # 띄어쓰기 포함\n",
    "plt.rcParams['axes.unicode_minus'] = False\n",
    "sns.set_style('whitegrid')"
   ]
  },
  {
   "cell_type": "code",
   "execution_count": null,
   "metadata": {},
   "outputs": [],
   "source": [
    "kospi = pd.read_csv(\"../data/raw/코스피_상장폐지.csv\")\n",
    "kosdaq = pd.read_csv(\"../data/raw/코스닥_상장폐지.csv\")"
   ]
  },
  {
   "cell_type": "code",
   "execution_count": null,
   "metadata": {},
   "outputs": [],
   "source": [
    "fail = pd.concat([kospi, kosdaq])"
   ]
  },
  {
   "cell_type": "code",
   "execution_count": null,
   "metadata": {},
   "outputs": [],
   "source": [
    "fail.to_csv(\"../data/processed/fail.csv\")"
   ]
  },
  {
   "cell_type": "code",
   "execution_count": null,
   "metadata": {},
   "outputs": [],
   "source": [
    "flag = fail['종목코드'].unique()\n",
    "\n",
    "bs = pd.read_csv(\"../data/processed/BS.csv\")\n",
    "\n",
    "bsset = set(bs['거래소코드'].unique())\n",
    "flagset = set(flag)\n",
    "\n",
    "print(f\"BS에 있는 기업수: {len(bsset)}\")\n",
    "print(f\"flag에 있는 기업수: {len(flagset)}\")\n",
    "print(f\"BS에 있는 상장폐지 기업수: {len(bsset & flagset)}\")\n",
    "print(f\"BS에 없는 상장폐지 기업수: {len(flagset - bsset)}\")\n",
    "print(f\"최종 기업수: {len(bsset - flagset)}\")\n"
   ]
  },
  {
   "cell_type": "code",
   "execution_count": null,
   "metadata": {},
   "outputs": [],
   "source": [
    "c_ratio = pd.read_csv(\"../data/raw/연결 재무비율(IFRS).csv\")\n",
    "n_ratio = pd.read_csv(\"../data/raw/재무비율(IFRS).csv\")\n",
    "c_bs = pd.read_csv(\"../data/raw/연결 재무제표(IFRS).csv\")\n",
    "n_bs = pd.read_csv(\"../data/raw/재무제표(IFRS).csv\")\n",
    "delisting = pd.concat([kospi, kosdaq])\n",
    "df = pd.DataFrame()"
   ]
  },
  {
   "cell_type": "code",
   "execution_count": null,
   "metadata": {},
   "outputs": [],
   "source": [
    "c_bs.columns.tolist()"
   ]
  },
  {
   "cell_type": "code",
   "execution_count": null,
   "metadata": {},
   "outputs": [],
   "source": [
    "n_bs.columns.tolist()"
   ]
  },
  {
   "cell_type": "code",
   "execution_count": null,
   "metadata": {},
   "outputs": [],
   "source": [
    "bs = pd.read_csv(\"../data/processed/BS.csv\")\n",
    "ratio = pd.read_csv(\"../data/processed/ratio.csv\")\n",
    "\n",
    "print(bs.shape)\n",
    "print(ratio.shape)\n",
    "\n",
    "df = pd.concat([bs, ratio], axis=1)\n",
    "df.to_csv(\"../data/processed/bs_ratio.csv\", index=False)"
   ]
  },
  {
   "cell_type": "code",
   "execution_count": null,
   "metadata": {},
   "outputs": [],
   "source": [
    "df.columns"
   ]
  },
  {
   "cell_type": "code",
   "execution_count": null,
   "metadata": {},
   "outputs": [],
   "source": [
    "df.columns.tolist()"
   ]
  },
  {
   "cell_type": "code",
   "execution_count": null,
   "metadata": {},
   "outputs": [],
   "source": [
    "# -------------------------------\n",
    "# 1. 데이터 불러오기\n",
    "# -------------------------------\n",
    "### TODO: 실제 파일 경로를 지정하세요\n",
    "df = pd.read_csv(\"../data/processed/bs_ratio.csv\")\n",
    "\n",
    "# -------------------------------\n",
    "# 2. 주요 변수 지정\n",
    "# -------------------------------\n",
    "### TODO: 컬럼명을 실제 데이터에 맞춰 수정\n",
    "id_col      = '거래소코드'\n",
    "keep_cols = [\n",
    "    '[A100000000]자산(*)(IFRS연결)(천원)',                                    # 총자산\n",
    "    '[A800000000]부채(*)(IFRS연결)(천원)',                                    # 총부채\n",
    "    '[A600000000]자본(*)(IFRS연결)(천원)',                                    # 자본\n",
    "    '[B420000000]* (정상)영업손익(보고서기재)(3개월)(IFRS연결)(천원)',     # 영업이익 (분기)\n",
    "    '[B840000000]당기순이익(손실)(3개월)(IFRS연결)(천원)',                   # 순이익 (분기)\n",
    "    '[D100000000]영업활동으로 인한 현금흐름(간접법)(*)(IFRS연결)(천원)',    # 영업현금흐름\n",
    "    '부채비율(IFRS연결)',                                                      # Debt Ratio\n",
    "    '차입금의존도(IFRS연결)',                                                  # Borrowing Dependence\n",
    "    '총자본회전률(IFRS연결)',                                                  # Asset Turnover\n",
    "    'PBR(최저)(IFRS연결)'                                                      # PBR (Lowest)\n",
    "]\n",
    "df = df.drop(columns=[c for c in df.columns if c not in keep_cols])\n",
    "df.columns = ['Asset', 'Debt', 'Equity', 'OperatingIncome', 'NetIncome', 'OperatingCashFlow', 'DebtRatio', 'BorrowingDependence', 'AssetTurnover', 'PBR']\n",
    "cat_cols = []                  # 범주형 변수 있다면 추가\n",
    "df.columns"
   ]
  },
  {
   "cell_type": "code",
   "execution_count": null,
   "metadata": {},
   "outputs": [],
   "source": [
    "# 2-1. 정보 요약\n",
    "display(df.info())\n",
    "display(df.head())\n",
    "\n",
    "# # 2-2. 중복 확인 (동일 기업·연도 중복행 탐지)\n",
    "# dup_mask = df.duplicated(subset=[id_col, 'year'])\n",
    "# print(f\"중복 행 수: {dup_mask.sum()}\")\n",
    "# if dup_mask.any():\n",
    "#     df = df[~dup_mask]  # 필요 시 제거"
   ]
  },
  {
   "cell_type": "code",
   "execution_count": null,
   "metadata": {},
   "outputs": [],
   "source": [
    "# 3-1. 변수별 결측 비율\n",
    "null_ratio = df.isna().mean().sort_values(ascending=False)\n",
    "display(null_ratio.head(10))\n",
    "\n",
    "# 3-2. 히트맵 시각화\n",
    "plt.figure(figsize=(10,4))\n",
    "msno.matrix(df.sample(min(1000, len(df_bs))))\n",
    "plt.show()"
   ]
  },
  {
   "cell_type": "code",
   "execution_count": null,
   "metadata": {},
   "outputs": [],
   "source": [
    "# 4-1. 기술통계\n",
    "desc = df.describe().T\n",
    "display(desc)\n",
    "\n",
    "# 4-2. z-score 기반 이상치 마스크\n",
    "z_scores = df.apply(zscore)\n",
    "outlier_mask = (np.abs(z_scores) > 3).any(axis=1)\n",
    "print(f\"z>|3| 이상치 행 비율: {outlier_mask.mean():.2%}\")\n",
    "\n",
    "# 4-3. 상자그림(샘플 10개 변수)\n",
    "numeric_cols = df.select_dtypes(include='number').columns\n",
    "\n",
    "for col in numeric_cols:\n",
    "    plt.figure(figsize=(8, 4))\n",
    "    sns.boxplot(x=df[col], orient='h')\n",
    "    plt.title(f\"Boxplot of {col}\")\n",
    "    plt.xlabel(col)\n",
    "    plt.tight_layout()\n",
    "    plt.show()"
   ]
  },
  {
   "cell_type": "code",
   "execution_count": null,
   "metadata": {},
   "outputs": [],
   "source": [
    "# 6-1. 피어슨 상관행렬\n",
    "corr = df.corr()\n",
    "plt.figure(figsize=(10,8))\n",
    "sns.heatmap(corr, cmap='coolwarm', center=0, annot=False)\n",
    "plt.title(\"Correlation Matrix\"); plt.show()\n",
    "\n",
    "# # 6-2. VIF 계산\n",
    "# X = df.drop(columns=[], errors='ignore')  # 필요 시 제외 변수 지정\n",
    "# vif_vals = pd.Series(\n",
    "#     [variance_inflation_factor(X.values, i) for i in range(X.shape[1])],\n",
    "#     index=X.columns, name='VIF'\n",
    "# )\n",
    "# display(vif_vals.sort_values(ascending=False).head(10))"
   ]
  },
  {
   "cell_type": "code",
   "execution_count": null,
   "metadata": {},
   "outputs": [],
   "source": [
    "import matplotlib.pyplot as plt\n",
    "import seaborn as sns\n",
    "import statsmodels.api as sm\n",
    "\n",
    "# ─────────────────────────────────────────────\n",
    "# QQ-Plot: 각 변수별로 화면에 표시\n",
    "# ─────────────────────────────────────────────\n",
    "for col in df.columns:\n",
    "    sm.qqplot(df[col].dropna(), line='45', fit=True)\n",
    "    plt.title(f\"QQ Plot of {col}\")\n",
    "    plt.xlabel(\"Theoretical Quantiles\")\n",
    "    plt.ylabel(\"Sample Quantiles\")\n",
    "    plt.tight_layout()\n",
    "    plt.show()\n",
    "    plt.close()\n",
    "\n",
    "# ─────────────────────────────────────────────\n",
    "# Scatter: 'Asset' 기준으로 나머지 변수들과 화면에 표시\n",
    "# ─────────────────────────────────────────────\n",
    "for col in df.columns:\n",
    "    if col == 'Asset':\n",
    "        continue\n",
    "    plt.figure(figsize=(6, 6))\n",
    "    sns.scatterplot(x=df['Asset'], y=df[col], alpha=0.6)\n",
    "    plt.title(f\"Asset vs {col}\")\n",
    "    plt.xlabel(\"Asset\")\n",
    "    plt.ylabel(col)\n",
    "    plt.tight_layout()\n",
    "    plt.show()\n",
    "    plt.close()\n"
   ]
  },
  {
   "cell_type": "code",
   "execution_count": null,
   "metadata": {},
   "outputs": [],
   "source": [
    "industry = pd.read_excel(\"../data/raw/산업분류.xlsx\")"
   ]
  },
  {
   "cell_type": "code",
   "execution_count": null,
   "metadata": {},
   "outputs": [],
   "source": [
    "industry[\"통계청 한국표준산업분류 11차(대분류)\"].value_counts()"
   ]
  },
  {
   "cell_type": "code",
   "execution_count": null,
   "metadata": {},
   "outputs": [],
   "source": [
    "industry = industry[industry['통계청 한국표준산업분류 11차(대분류)'] != \"금융 및 보험업\"]\n",
    "industry = industry[industry['통계청 한국표준산업분류 11차(대분류)'] != \"부동산업\"]\n",
    "industry = industry[industry['통계청 한국표준산업분류 11차(대분류)'] != \"전기, 가스, 증기 및 공기조절 공급업 (공공 유틸리티)\"]\n",
    "industry"
   ]
  },
  {
   "cell_type": "code",
   "execution_count": null,
   "metadata": {},
   "outputs": [],
   "source": [
    "len(c_bs)"
   ]
  },
  {
   "cell_type": "code",
   "execution_count": null,
   "metadata": {},
   "outputs": [],
   "source": [
    "# industry에 존재하는 거래소코드 목록 추출\n",
    "valid_codes = industry['거래소코드'].unique()\n",
    "\n",
    "# 각 데이터프레임에서 valid_codes에 포함된 행만 남기기\n",
    "c_bs     = c_bs    [c_bs    ['거래소코드'].isin(valid_codes)].reset_index(drop=True)\n",
    "c_ratio  = c_ratio [c_ratio ['거래소코드'].isin(valid_codes)].reset_index(drop=True)\n",
    "n_bs     = n_bs    [n_bs    ['거래소코드'].isin(valid_codes)].reset_index(drop=True)\n",
    "n_ratio  = n_ratio [n_ratio ['거래소코드'].isin(valid_codes)].reset_index(drop=True)"
   ]
  },
  {
   "cell_type": "code",
   "execution_count": null,
   "metadata": {},
   "outputs": [],
   "source": [
    "c_bs.to_csv(\"../data/raw/연결재무제표.csv\", index=False)\n",
    "n_bs.to_csv(\"../data/raw/개별재무제표.csv\", index=False)\n",
    "c_ratio.to_csv(\"../data/raw/연결재무비율.csv\", index=False)\n",
    "n_ratio.to_csv(\"../data/raw/개별재무비율.csv\", index=False)"
   ]
  }
 ],
 "metadata": {
  "kernelspec": {
   "display_name": ".venv",
   "language": "python",
   "name": "python3"
  },
  "language_info": {
   "codemirror_mode": {
    "name": "ipython",
    "version": 3
   },
   "file_extension": ".py",
   "mimetype": "text/x-python",
   "name": "python",
   "nbconvert_exporter": "python",
   "pygments_lexer": "ipython3",
   "version": "3.13.3"
  }
 },
 "nbformat": 4,
 "nbformat_minor": 2
}
